{
 "cells": [
  {
   "cell_type": "markdown",
   "id": "08cb3888-a520-4147-90c9-54f6d60a56f8",
   "metadata": {},
   "source": [
    "## Environment Settings"
   ]
  },
  {
   "cell_type": "code",
   "execution_count": 1,
   "id": "bf6da310-5f4d-4496-9086-52b1060144ea",
   "metadata": {},
   "outputs": [],
   "source": [
    "%load_ext dotenv\n",
    "%dotenv\n",
    "from pdnd.common.functions import Session\n",
    "from pdnd.common.google_utils import Sheet\n",
    "from pdnd.common.functions import *"
   ]
  },
  {
   "cell_type": "raw",
   "id": "cc08047b-ca4a-4d1d-a134-3bae7399f607",
   "metadata": {},
   "source": [
    "from pdnd.common.functions import *"
   ]
  },
  {
   "cell_type": "code",
   "execution_count": 2,
   "id": "ca5ff280-9507-47d4-931b-8cfd130d4fa1",
   "metadata": {},
   "outputs": [],
   "source": [
    "session = Session.from_env()"
   ]
  },
  {
   "cell_type": "code",
   "execution_count": 3,
   "id": "e1efe0e6-850e-47e8-bdd4-4cf4f7db4e48",
   "metadata": {},
   "outputs": [],
   "source": [
    "pdq = session.get_panda_query('impala')"
   ]
  },
  {
   "cell_type": "markdown",
   "id": "d087143b-45d7-462a-888f-2712352cf3a4",
   "metadata": {},
   "source": [
    "## Create Sheet instance"
   ]
  },
  {
   "cell_type": "code",
   "execution_count": 4,
   "id": "4d6041b4-9aac-49eb-b219-e5f6f3313277",
   "metadata": {},
   "outputs": [
    {
     "data": {
      "text/plain": [
       "Google sheet (id:'1Ts6LJ0P4kt-K7t5k6HF4YxhrzvYoWrsAKvOTRdCXD1o'|title:'Prova'|id_mode:'key'|url: https://docs.google.com/spreadsheets/d/1Ts6LJ0P4kt-K7t5k6HF4YxhrzvYoWrsAKvOTRdCXD1o)"
      ]
     },
     "execution_count": 4,
     "metadata": {},
     "output_type": "execute_result"
    }
   ],
   "source": [
    "# sheet representation provide useful information\n",
    "example_sheet = Sheet(sheet_id='1Ts6LJ0P4kt-K7t5k6HF4YxhrzvYoWrsAKvOTRdCXD1o' , id_mode='key')\n",
    "example_sheet"
   ]
  },
  {
   "cell_type": "markdown",
   "id": "b94e6c53-cfcb-4ea6-ba3a-302bee9e27e7",
   "metadata": {
    "tags": []
   },
   "source": [
    "## Query"
   ]
  },
  {
   "cell_type": "code",
   "execution_count": 5,
   "id": "4237faf8-efbf-42c0-bff7-5882fe24e95f",
   "metadata": {},
   "outputs": [],
   "source": [
    "report = pdq(f'''SELECT n.iun, n.sentat, n.senderpaid, n.senderdenomination, n.physicalCommunicationType, n.subject, n.taxonomycode, get_json_object(t.details, '$.physicalAddress.zip') cap, CAST(get_json_object(t.details, '$.numberOfPages') as bigint) pages, CAST(get_json_object(t.details, '$.envelopeWeight') as bigint) weight\n",
    "            FROM send.silver_timeline t\n",
    "            join send.silver_notification n on n.iun = t.iun\n",
    "            left OUTER join send.silver_timeline cancelled on (t.iun = cancelled.iun and t.paid = cancelled.paid and cancelled.category ='NOTIFICATION_CANCELLED')\n",
    "            left OUTER join send.silver_timeline viewed on (t.iun = viewed.iun and t.paid = viewed.paid and viewed.category = 'NOTIFICATION_VIEWED')\n",
    "            WHERE t.category='SEND_ANALOG_DOMICILE'\n",
    "            and cancelled.iun is null \n",
    "            and viewed.iun is null\n",
    "            and ((CAST(get_json_object(t.details, '$.numberOfPages') as bigint) > 18 and n.physicalcommunicationtype = 'REGISTERED_LETTER_890') or \n",
    "            (CAST(get_json_object(t.details, '$.numberOfPages') as bigint) > 100 and n.physicalcommunicationtype = 'AR_REGISTERED_LETTER'))\n",
    "            ''')"
   ]
  },
  {
   "cell_type": "markdown",
   "id": "109897e8-cf1a-4969-bf35-5787828e50d8",
   "metadata": {},
   "source": [
    "## Uploading"
   ]
  },
  {
   "cell_type": "code",
   "execution_count": 6,
   "id": "f01dedc9-9957-48ed-98ee-93151ada5466",
   "metadata": {},
   "outputs": [],
   "source": [
    "example_sheet.upload('notifiche_bloccate', report)"
   ]
  }
 ],
 "metadata": {
  "kernelspec": {
   "display_name": "Python 3",
   "language": "python",
   "name": "python3"
  },
  "language_info": {
   "codemirror_mode": {
    "name": "ipython",
    "version": 3
   },
   "file_extension": ".py",
   "mimetype": "text/x-python",
   "name": "python",
   "nbconvert_exporter": "python",
   "pygments_lexer": "ipython3",
   "version": "3.9.7"
  }
 },
 "nbformat": 4,
 "nbformat_minor": 5
}
