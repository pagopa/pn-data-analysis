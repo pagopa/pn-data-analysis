{
 "cells": [
  {
   "cell_type": "code",
   "execution_count": null,
   "id": "88c6dfe6-5908-4cf7-a562-95771f8b9227",
   "metadata": {},
   "outputs": [],
   "source": [
    "import cml.data_v1 as cmldata\n",
    "\n",
    "import configparser\n",
    "import uuid\n",
    "import os\n",
    "from typing import Dict\n",
    "from pyspark.sql.functions import to_date, col\n",
    "from pyspark import SparkConf\n",
    "from pyspark.sql import SparkSession, DataFrameWriter\n",
    "from pyspark.sql.functions import udf\n",
    "from pyspark.sql.types import StructType, StructField, IntegerType, DateType, StringType\n",
    "from pyspark.sql import functions as F\n",
    "from pyspark.sql.window import Window\n",
    "from datetime import datetime, timedelta, date\n",
    "from pyspark.sql.functions import year, month, count, sum, col, ceil, when\n",
    "import pandas as pd\n",
    "\n",
    "# Sample in-code customization of spark configurations\n",
    "#from pyspark import SparkContext\n",
    "#SparkContext.setSystemProperty('spark.executor.cores', '1')\n",
    "#SparkContext.setSystemProperty('spark.executor.memory', '2g')\n",
    "\n",
    "CONNECTION_NAME = \"pdnd-prod-dl-1\"\n",
    "conn = cmldata.get_connection(CONNECTION_NAME)\n",
    "spark = conn.get_spark_session()\n",
    "\n",
    "# Sample usage to run query through spark\n",
    "EXAMPLE_SQL_QUERY = \"show databases\"\n",
    "spark.sql(EXAMPLE_SQL_QUERY).show()"
   ]
  },
  {
   "cell_type": "code",
   "execution_count": null,
   "id": "d24b34ab-8d33-469a-a33b-82f9f869a806",
   "metadata": {},
   "outputs": [],
   "source": [
    "df_gold = spark.sql( \"\"\"   \n",
    "           SELECT  p.iun,\n",
    "           p.requestid,\n",
    "           p.affido_recapitista_con016_data,\n",
    "           CASE \n",
    "               WHEN n.tms_viewed IS NULL THEN n.tms_effective_date\n",
    "               WHEN n.tms_effective_date IS NULL THEN n.tms_viewed\n",
    "               WHEN n.tms_viewed < n.tms_effective_date THEN n.tms_viewed\n",
    "               ELSE n.tms_effective_date\n",
    "           END AS tms_perfezionamento\n",
    "   FROM send.gold_notification_analytics n JOIN send.gold_postalizzazione_analytics p ON (n.iun = p.iun)\n",
    "   WHERE p.affido_recapitista_con016_data IS NOT NULL AND p.senderpaid = \"53b40136-65f2-424b-acfb-7fae17e35c60\" AND ( n.tms_viewed IS NOT NULL OR n.tms_effective_date IS NOT NULL )\"\"\"   \n",
    "                    ) "
   ]
  },
  {
   "cell_type": "raw",
   "id": "016e3264-587e-4eb5-af32-bac7838c9ff8",
   "metadata": {},
   "source": [
    "df_gold.count()"
   ]
  },
  {
   "cell_type": "code",
   "execution_count": null,
   "id": "8bc80784-e2e6-4877-9cfe-52d77596c30f",
   "metadata": {},
   "outputs": [],
   "source": [
    "df_gold.createOrReplaceTempView(\"DF_GOLD\")"
   ]
  },
  {
   "cell_type": "raw",
   "id": "2b8703ec-5c17-402c-951b-9744619539b0",
   "metadata": {},
   "source": [
    "df_postalizzazione_ranked = spark.sql( \"\"\" \n",
    "WITH ReportSLA_INPS AS (\n",
    "\tSELECT \tiun, \n",
    "\t\t\trequestid, \n",
    "\t\t\tpcretry_rank, \n",
    "\t\t\tattempt_number \n",
    "\tFROM send.gold_postalizzazione_analytics\n",
    "\tWHERE scarto_consolidatore_stato IS NULL AND senderpaid = \"53b40136-65f2-424b-acfb-7fae17e35c60\"\n",
    "),RankedAttempts AS (\n",
    "\tSELECT iun,\n",
    "\t\t   requestid,\n",
    "\t\t   pcretry_rank,\n",
    "\t\t   ROW_NUMBER() OVER (PARTITION BY iun ORDER BY attempt_number DESC) AS attempt_rank\n",
    "\tFROM ReportSLA_INPS\n",
    ")\n",
    "SELECT iun, requestid, pcretry_rank, attempt_rank\n",
    "FROM RankedAttempts\n",
    "WHERE pcretry_rank = 1 AND attempt_rank = 1;\n",
    "\"\"\")"
   ]
  },
  {
   "cell_type": "code",
   "execution_count": null,
   "id": "6fcaaee9-568b-4a1f-a739-c62d397bd26f",
   "metadata": {},
   "outputs": [],
   "source": [
    "df_postalizzazione_ranked = spark.sql( \"\"\" \n",
    "SELECT iun, requestid, pcretry_rank, attempt_rank\n",
    "FROM (\n",
    "\tSELECT iun,\n",
    "\t\t   requestid,\n",
    "\t\t   pcretry_rank,\n",
    "\t\t   ROW_NUMBER() OVER (PARTITION BY iun ORDER BY attempt_number DESC) AS attempt_rank\n",
    "\tFROM send.gold_postalizzazione_analytics\n",
    "\tWHERE scarto_consolidatore_stato IS NULL AND senderpaid = \"53b40136-65f2-424b-acfb-7fae17e35c60\"\n",
    ") RankedAttempts\n",
    "WHERE pcretry_rank = 1 AND attempt_rank = 1;\n",
    "\"\"\")"
   ]
  },
  {
   "cell_type": "code",
   "execution_count": null,
   "id": "74c61d8e-4631-4544-ac1d-7af2617cd66a",
   "metadata": {},
   "outputs": [],
   "source": [
    "df_postalizzazione_ranked.createOrReplaceTempView(\"DF_RANKED\")"
   ]
  },
  {
   "cell_type": "code",
   "execution_count": null,
   "id": "7e2acfad-80b9-40ef-a202-6ca0f9f07376",
   "metadata": {},
   "outputs": [],
   "source": [
    "df_gold_ranked = spark.sql(\"\"\" \n",
    "    SELECT dg.*\n",
    "    FROM DF_RANKED dr JOIN DF_GOLD dg ON (dr.requestid = dg.requestid)\n",
    "\"\"\")"
   ]
  },
  {
   "cell_type": "raw",
   "id": "fc7e4181-85b4-40a7-a893-31123deac553",
   "metadata": {},
   "source": [
    "df_gold_ranked.count()"
   ]
  },
  {
   "cell_type": "code",
   "execution_count": null,
   "id": "26af5bf4-c3d9-461e-bdac-be00e425c902",
   "metadata": {},
   "outputs": [],
   "source": [
    "#print(df_gold_notification)\n",
    "df_gold_ranked = df_gold_ranked.withColumn(\"affido_recapitista_con016_data\", F.col(\"affido_recapitista_con016_data\").cast(\"timestamp\"))\n",
    "df_gold_ranked = df_gold_ranked.withColumn(\"tms_perfezionamento\", F.col(\"tms_perfezionamento\").cast(\"timestamp\"))"
   ]
  },
  {
   "cell_type": "code",
   "execution_count": null,
   "id": "8c0dea5e-5ab5-4e94-8f90-abd86c2383a3",
   "metadata": {},
   "outputs": [],
   "source": [
    "#Calcolo delle tempistiche - aggiunta colonna\n",
    "df_gold_ranked = df_gold_ranked.withColumn(\n",
    "                        \"diff_affido_perfezionamento\",\n",
    "                        F.round((F.unix_timestamp(\"tms_perfezionamento\") - F.unix_timestamp(\"affido_recapitista_con016_data\")) / (3600 * 24),2)\n",
    "                    )"
   ]
  },
  {
   "cell_type": "raw",
   "id": "386a62d9-0109-40f5-89ea-868864c778a2",
   "metadata": {},
   "source": [
    "df_gold_ranked.show(5)"
   ]
  },
  {
   "cell_type": "code",
   "execution_count": null,
   "id": "6ec93b51-e578-407c-821d-d40b8b41a222",
   "metadata": {},
   "outputs": [],
   "source": [
    "#Calcolo delle perfezionate totali \n",
    "total_notifications = df_gold_ranked.count()\n",
    "\n",
    "total_notifications"
   ]
  },
  {
   "cell_type": "code",
   "execution_count": null,
   "id": "6b6616d5-581b-41b7-b323-77c75d66093a",
   "metadata": {},
   "outputs": [],
   "source": [
    "#Calcolo dei tempi medi di perfezionamento raggruppati per mese/anno di deposito sentat?\n",
    "\n",
    "#dic 24 - somma tempistiche / notifiche perfezionate dicembre\n",
    "#gen 25 - somma tempistiche / notifiche perfezionate gennaio\n",
    "#feb 25 - somma tempistiche / notifiche perfezionate febbraio\n",
    "\n",
    "df_grouped = df_gold_ranked.withColumn(\"anno_affido\", F.year(F.col(\"affido_recapitista_con016_data\"))) \\\n",
    "                    .withColumn(\"mese_affido\", F.month(F.col(\"affido_recapitista_con016_data\")))\n",
    "\n"
   ]
  },
  {
   "cell_type": "code",
   "execution_count": null,
   "id": "69acce6c-c575-4572-95b3-4bf84deeba4f",
   "metadata": {},
   "outputs": [],
   "source": [
    "print(df_grouped)"
   ]
  },
  {
   "cell_type": "code",
   "execution_count": null,
   "id": "b17b265d-098b-4a22-8f63-07a4cf8ad62c",
   "metadata": {},
   "outputs": [],
   "source": [
    "df_tempo_medio = df_grouped.groupBy(\"anno_affido\", \"mese_affido\").agg(\n",
    "    sum(\"diff_affido_perfezionamento\").alias(\"somma_tempistiche\"),\n",
    "    count(\"tms_perfezionamento\").alias(\"notifiche_perfezionate\")\n",
    ")"
   ]
  },
  {
   "cell_type": "code",
   "execution_count": null,
   "id": "a64b4636-235d-4f87-a18e-3609a1e95902",
   "metadata": {},
   "outputs": [],
   "source": [
    "df_tempo_medio = df_tempo_medio.withColumn(\n",
    "    \"tempo_medio_perfezionamento\", F.round(col(\"somma_tempistiche\") / col(\"notifiche_perfezionate\"), 2)\n",
    ")"
   ]
  },
  {
   "cell_type": "code",
   "execution_count": null,
   "id": "76410a7a-641a-4036-89a8-6cad28873753",
   "metadata": {},
   "outputs": [],
   "source": [
    "print(df_tempo_medio)"
   ]
  },
  {
   "cell_type": "markdown",
   "id": "e9d34141-9109-4e52-a20c-3822fc8503ed",
   "metadata": {},
   "source": [
    "# Esportare il risultato in tabella"
   ]
  },
  {
   "cell_type": "code",
   "execution_count": null,
   "id": "0202d2dc-037f-49ff-b3cf-eca77af9f5c2",
   "metadata": {},
   "outputs": [],
   "source": [
    "df_tempo_medio.createOrReplaceTempView(\"DF_OUTPUT\")"
   ]
  },
  {
   "cell_type": "code",
   "execution_count": null,
   "id": "3944de0f-93ec-4514-9329-a2e89fa2ff50",
   "metadata": {},
   "outputs": [],
   "source": [
    " spark.sql(\"\"\"SELECT * FROM DF_OUTPUT\"\"\").writeTo(\"send_dev.inps_affido_perfezionamento\")\\\n",
    "                .using(\"iceberg\")\\\n",
    "                .tableProperty(\"format-version\",\"2\")\\\n",
    "                .tableProperty(\"engine.hive.enabled\",\"true\")\\\n",
    "                .createOrReplace()\n",
    "#print(datetime.now()-start)"
   ]
  },
  {
   "cell_type": "code",
   "execution_count": null,
   "id": "2107be96-382b-4e03-bfd9-bf0c880b6428",
   "metadata": {},
   "outputs": [],
   "source": []
  }
 ],
 "metadata": {
  "kernelspec": {
   "display_name": "Python 3 (ipykernel)",
   "language": "python",
   "name": "python3"
  },
  "language_info": {
   "codemirror_mode": {
    "name": "ipython",
    "version": 3
   },
   "file_extension": ".py",
   "mimetype": "text/x-python",
   "name": "python",
   "nbconvert_exporter": "python",
   "pygments_lexer": "ipython3",
   "version": "3.10.14"
  }
 },
 "nbformat": 4,
 "nbformat_minor": 5
}
