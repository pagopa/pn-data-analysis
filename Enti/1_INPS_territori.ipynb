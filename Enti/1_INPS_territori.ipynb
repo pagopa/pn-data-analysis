{
 "cells": [
  {
   "cell_type": "code",
   "execution_count": null,
   "id": "88c6dfe6-5908-4cf7-a562-95771f8b9227",
   "metadata": {},
   "outputs": [],
   "source": [
    "import cml.data_v1 as cmldata\n",
    "\n",
    "import configparser\n",
    "import uuid\n",
    "import os\n",
    "from typing import Dict\n",
    "from pyspark.sql.functions import to_date, col\n",
    "from pyspark import SparkConf\n",
    "from pyspark.sql import SparkSession, DataFrameWriter\n",
    "from pyspark.sql.functions import udf\n",
    "from pyspark.sql.types import StructType, StructField, IntegerType, DateType, StringType\n",
    "from pyspark.sql import functions as F\n",
    "from pyspark.sql.window import Window\n",
    "from datetime import datetime, timedelta, date\n",
    "from pyspark.sql.functions import col, ceil, when\n",
    "import pandas as pd\n",
    "\n",
    "# Sample in-code customization of spark configurations\n",
    "#from pyspark import SparkContext\n",
    "#SparkContext.setSystemProperty('spark.executor.cores', '1')\n",
    "#SparkContext.setSystemProperty('spark.executor.memory', '2g')\n",
    "\n",
    "CONNECTION_NAME = \"pdnd-prod-dl-1\"\n",
    "conn = cmldata.get_connection(CONNECTION_NAME)\n",
    "spark = conn.get_spark_session()\n",
    "\n",
    "# Sample usage to run query through spark\n",
    "EXAMPLE_SQL_QUERY = \"show databases\"\n",
    "spark.sql(EXAMPLE_SQL_QUERY).show()"
   ]
  },
  {
   "cell_type": "code",
   "execution_count": null,
   "id": "d24b34ab-8d33-469a-a33b-82f9f869a806",
   "metadata": {},
   "outputs": [],
   "source": [
    "df_gold = spark.sql( \"\"\"   \n",
    "                       SELECT  requestid,\n",
    "                               iun,\n",
    "                               geokey,\n",
    "                               accettazione_recapitista_con018_data\n",
    "                       FROM send.gold_postalizzazione_analytics\n",
    "                       WHERE accettazione_recapitista_con018_data IS NOT NULL\n",
    "                       AND senderpaid = \"53b40136-65f2-424b-acfb-7fae17e35c60\" \"\"\"   \n",
    "                    ) "
   ]
  },
  {
   "cell_type": "code",
   "execution_count": null,
   "id": "9c1eaf44-1123-4335-98f7-4897b5b94cd2",
   "metadata": {},
   "outputs": [],
   "source": [
    "df_gold.count()"
   ]
  },
  {
   "cell_type": "code",
   "execution_count": null,
   "id": "74c61d8e-4631-4544-ac1d-7af2617cd66a",
   "metadata": {},
   "outputs": [],
   "source": [
    "df_gold.createOrReplaceTempView(\"DF_GOLD\")"
   ]
  },
  {
   "cell_type": "code",
   "execution_count": null,
   "id": "c2507d51-59b3-4c88-a067-206b65c8bb92",
   "metadata": {},
   "outputs": [],
   "source": [
    "print(df_gold.head())"
   ]
  },
  {
   "cell_type": "code",
   "execution_count": null,
   "id": "ae70b24c-5239-44bb-9423-008958edd644",
   "metadata": {},
   "outputs": [],
   "source": [
    "#Definire lo schema per il nuovo df di spark che comprende i lotti e regioni associati \n",
    "schema = StructType([\n",
    "    StructField(\"CAP\", StringType(), True), \n",
    "    StructField(\"Regione\", StringType(), True)\n",
    "])"
   ]
  },
  {
   "cell_type": "code",
   "execution_count": null,
   "id": "6ec93b51-e578-407c-821d-d40b8b41a222",
   "metadata": {},
   "outputs": [],
   "source": [
    "df_cap_regione = spark.read.csv(\"CAP-Regione.csv\", header= True, sep= \";\", schema = schema)"
   ]
  },
  {
   "cell_type": "code",
   "execution_count": null,
   "id": "8c3cf551-0a5a-4309-b68f-39344538bb40",
   "metadata": {},
   "outputs": [],
   "source": [
    "df_cap_regione = df_cap_regione.dropDuplicates()"
   ]
  },
  {
   "cell_type": "code",
   "execution_count": null,
   "id": "e3e73a9a-a208-4918-aff1-2929dec05c19",
   "metadata": {},
   "outputs": [],
   "source": [
    "df_cap_regione.count()"
   ]
  },
  {
   "cell_type": "code",
   "execution_count": null,
   "id": "6b6616d5-581b-41b7-b323-77c75d66093a",
   "metadata": {},
   "outputs": [],
   "source": [
    "df_cap_regione.createOrReplaceTempView(\"DF_CAP_REGIONE\")"
   ]
  },
  {
   "cell_type": "code",
   "execution_count": null,
   "id": "b17b265d-098b-4a22-8f63-07a4cf8ad62c",
   "metadata": {},
   "outputs": [],
   "source": [
    "print(df_cap_regione)"
   ]
  },
  {
   "cell_type": "markdown",
   "id": "ab3bbf2c-bb87-43b2-b816-208b76013f62",
   "metadata": {},
   "source": [
    "# Calcolo delle numeriche per regioni e numeriche totali di affidi con con018 <> null"
   ]
  },
  {
   "cell_type": "code",
   "execution_count": null,
   "id": "c6464d12-330f-4fa6-9609-e7b50a2eeb76",
   "metadata": {},
   "outputs": [],
   "source": [
    "result = spark.sql(\"\"\"SELECT r.Regione,\n",
    "                    MONTH(g.accettazione_recapitista_con018_data) AS mese_accettazione,\n",
    "                    YEAR(g.accettazione_recapitista_con018_data) AS anno_accettazione,\n",
    "                    COUNT(g.requestid) AS totale_affidi\n",
    "                    FROM DF_GOLD g JOIN DF_CAP_REGIONE r ON (g.geokey = r.CAP)\n",
    "                    GROUP BY r.Regione, MONTH(g.accettazione_recapitista_con018_data), YEAR(g.accettazione_recapitista_con018_data) \"\"\")"
   ]
  },
  {
   "cell_type": "code",
   "execution_count": null,
   "id": "a986ce9a-cda2-4478-be20-82c7e03d3ee1",
   "metadata": {},
   "outputs": [],
   "source": [
    "result.count()"
   ]
  },
  {
   "cell_type": "markdown",
   "id": "e9d34141-9109-4e52-a20c-3822fc8503ed",
   "metadata": {},
   "source": [
    "# Prova 2 esportare il risultato in tabella"
   ]
  },
  {
   "cell_type": "code",
   "execution_count": null,
   "id": "0202d2dc-037f-49ff-b3cf-eca77af9f5c2",
   "metadata": {},
   "outputs": [],
   "source": [
    "result.createOrReplaceTempView(\"DF_OUTPUT\")"
   ]
  },
  {
   "cell_type": "code",
   "execution_count": null,
   "id": "3944de0f-93ec-4514-9329-a2e89fa2ff50",
   "metadata": {},
   "outputs": [],
   "source": [
    " spark.sql(\"\"\"SELECT * FROM DF_OUTPUT\"\"\").writeTo(\"send_dev.inps_territori\")\\\n",
    "                .using(\"iceberg\")\\\n",
    "                .tableProperty(\"format-version\",\"2\")\\\n",
    "                .tableProperty(\"engine.hive.enabled\",\"true\")\\\n",
    "                .createOrReplace()\n",
    "#print(datetime.now()-start)"
   ]
  },
  {
   "cell_type": "code",
   "execution_count": null,
   "id": "2107be96-382b-4e03-bfd9-bf0c880b6428",
   "metadata": {},
   "outputs": [],
   "source": []
  }
 ],
 "metadata": {
  "kernelspec": {
   "display_name": "Python 3 (ipykernel)",
   "language": "python",
   "name": "python3"
  },
  "language_info": {
   "codemirror_mode": {
    "name": "ipython",
    "version": 3
   },
   "file_extension": ".py",
   "mimetype": "text/x-python",
   "name": "python",
   "nbconvert_exporter": "python",
   "pygments_lexer": "ipython3",
   "version": "3.10.14"
  }
 },
 "nbformat": 4,
 "nbformat_minor": 5
}
